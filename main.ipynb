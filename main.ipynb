{
 "cells": [
  {
   "cell_type": "code",
   "execution_count": 2,
   "metadata": {},
   "outputs": [],
   "source": [
    "import numpy as np\n",
    "import pandas as pd\n",
    "import yfinance as yf\n",
    "import matplotlib.pyplot as plt"
   ]
  },
  {
   "cell_type": "code",
   "execution_count": 3,
   "metadata": {},
   "outputs": [
    {
     "name": "stdout",
     "output_type": "stream",
     "text": [
      "[*********************100%%**********************]  1 of 1 completed\n"
     ]
    },
    {
     "data": {
      "text/html": [
       "<div>\n",
       "<style scoped>\n",
       "    .dataframe tbody tr th:only-of-type {\n",
       "        vertical-align: middle;\n",
       "    }\n",
       "\n",
       "    .dataframe tbody tr th {\n",
       "        vertical-align: top;\n",
       "    }\n",
       "\n",
       "    .dataframe thead th {\n",
       "        text-align: right;\n",
       "    }\n",
       "</style>\n",
       "<table border=\"1\" class=\"dataframe\">\n",
       "  <thead>\n",
       "    <tr style=\"text-align: right;\">\n",
       "      <th></th>\n",
       "      <th>Date</th>\n",
       "      <th>Open</th>\n",
       "      <th>High</th>\n",
       "      <th>Low</th>\n",
       "      <th>Close</th>\n",
       "      <th>Adj Close</th>\n",
       "      <th>Volume</th>\n",
       "    </tr>\n",
       "  </thead>\n",
       "  <tbody>\n",
       "    <tr>\n",
       "      <th>0</th>\n",
       "      <td>1972-06-01</td>\n",
       "      <td>0.000000</td>\n",
       "      <td>2.173495</td>\n",
       "      <td>2.149165</td>\n",
       "      <td>2.153220</td>\n",
       "      <td>0.226079</td>\n",
       "      <td>1091238</td>\n",
       "    </tr>\n",
       "    <tr>\n",
       "      <th>1</th>\n",
       "      <td>1972-06-02</td>\n",
       "      <td>2.153220</td>\n",
       "      <td>2.173495</td>\n",
       "      <td>2.141055</td>\n",
       "      <td>2.149165</td>\n",
       "      <td>0.225653</td>\n",
       "      <td>1174468</td>\n",
       "    </tr>\n",
       "    <tr>\n",
       "      <th>2</th>\n",
       "      <td>1972-06-05</td>\n",
       "      <td>2.149165</td>\n",
       "      <td>2.169440</td>\n",
       "      <td>2.141055</td>\n",
       "      <td>2.149165</td>\n",
       "      <td>0.225653</td>\n",
       "      <td>5209582</td>\n",
       "    </tr>\n",
       "    <tr>\n",
       "      <th>3</th>\n",
       "      <td>1972-06-06</td>\n",
       "      <td>2.149165</td>\n",
       "      <td>2.157275</td>\n",
       "      <td>2.116725</td>\n",
       "      <td>2.124835</td>\n",
       "      <td>0.223099</td>\n",
       "      <td>1424158</td>\n",
       "    </tr>\n",
       "    <tr>\n",
       "      <th>4</th>\n",
       "      <td>1972-06-07</td>\n",
       "      <td>2.124835</td>\n",
       "      <td>2.137000</td>\n",
       "      <td>2.112670</td>\n",
       "      <td>2.112670</td>\n",
       "      <td>0.221821</td>\n",
       "      <td>675088</td>\n",
       "    </tr>\n",
       "  </tbody>\n",
       "</table>\n",
       "</div>"
      ],
      "text/plain": [
       "        Date      Open      High       Low     Close  Adj Close   Volume\n",
       "0 1972-06-01  0.000000  2.173495  2.149165  2.153220   0.226079  1091238\n",
       "1 1972-06-02  2.153220  2.173495  2.141055  2.149165   0.225653  1174468\n",
       "2 1972-06-05  2.149165  2.169440  2.141055  2.149165   0.225653  5209582\n",
       "3 1972-06-06  2.149165  2.157275  2.116725  2.124835   0.223099  1424158\n",
       "4 1972-06-07  2.124835  2.137000  2.112670  2.112670   0.221821   675088"
      ]
     },
     "execution_count": 3,
     "metadata": {},
     "output_type": "execute_result"
    }
   ],
   "source": [
    "yf_data = yf.download('F', start=\"1800-01-01\")\n",
    "yf_data.reset_index(inplace=True)\n",
    "yf_data.head()"
   ]
  },
  {
   "cell_type": "code",
   "execution_count": null,
   "metadata": {},
   "outputs": [
    {
     "data": {
      "text/html": [
       "<div>\n",
       "<style scoped>\n",
       "    .dataframe tbody tr th:only-of-type {\n",
       "        vertical-align: middle;\n",
       "    }\n",
       "\n",
       "    .dataframe tbody tr th {\n",
       "        vertical-align: top;\n",
       "    }\n",
       "\n",
       "    .dataframe thead th {\n",
       "        text-align: right;\n",
       "    }\n",
       "</style>\n",
       "<table border=\"1\" class=\"dataframe\">\n",
       "  <thead>\n",
       "    <tr style=\"text-align: right;\">\n",
       "      <th></th>\n",
       "      <th>Ford stock price</th>\n",
       "      <th>Daily returns</th>\n",
       "      <th>Volatility</th>\n",
       "    </tr>\n",
       "    <tr>\n",
       "      <th>Date</th>\n",
       "      <th></th>\n",
       "      <th></th>\n",
       "      <th></th>\n",
       "    </tr>\n",
       "  </thead>\n",
       "  <tbody>\n",
       "    <tr>\n",
       "      <th>1972-07-03</th>\n",
       "      <td>0.216712</td>\n",
       "      <td>-0.391371</td>\n",
       "      <td>0.665883</td>\n",
       "    </tr>\n",
       "    <tr>\n",
       "      <th>1972-07-05</th>\n",
       "      <td>0.215435</td>\n",
       "      <td>-0.589419</td>\n",
       "      <td>0.671238</td>\n",
       "    </tr>\n",
       "    <tr>\n",
       "      <th>1972-07-06</th>\n",
       "      <td>0.217990</td>\n",
       "      <td>1.185792</td>\n",
       "      <td>0.706339</td>\n",
       "    </tr>\n",
       "    <tr>\n",
       "      <th>1972-07-07</th>\n",
       "      <td>0.217138</td>\n",
       "      <td>-0.390600</td>\n",
       "      <td>0.701270</td>\n",
       "    </tr>\n",
       "    <tr>\n",
       "      <th>1972-07-10</th>\n",
       "      <td>0.214583</td>\n",
       "      <td>-1.176553</td>\n",
       "      <td>0.727105</td>\n",
       "    </tr>\n",
       "    <tr>\n",
       "      <th>...</th>\n",
       "      <td>...</td>\n",
       "      <td>...</td>\n",
       "      <td>...</td>\n",
       "    </tr>\n",
       "    <tr>\n",
       "      <th>2024-11-11</th>\n",
       "      <td>11.230000</td>\n",
       "      <td>2.370094</td>\n",
       "      <td>2.742602</td>\n",
       "    </tr>\n",
       "    <tr>\n",
       "      <th>2024-11-12</th>\n",
       "      <td>11.100000</td>\n",
       "      <td>-1.157606</td>\n",
       "      <td>2.752199</td>\n",
       "    </tr>\n",
       "    <tr>\n",
       "      <th>2024-11-14</th>\n",
       "      <td>11.070000</td>\n",
       "      <td>-0.270276</td>\n",
       "      <td>2.730101</td>\n",
       "    </tr>\n",
       "    <tr>\n",
       "      <th>2024-11-15</th>\n",
       "      <td>11.010000</td>\n",
       "      <td>-0.542001</td>\n",
       "      <td>2.733393</td>\n",
       "    </tr>\n",
       "    <tr>\n",
       "      <th>2024-11-18</th>\n",
       "      <td>11.210000</td>\n",
       "      <td>1.816529</td>\n",
       "      <td>2.760888</td>\n",
       "    </tr>\n",
       "  </tbody>\n",
       "</table>\n",
       "<p>12519 rows × 3 columns</p>\n",
       "</div>"
      ],
      "text/plain": [
       "            Ford stock price  Daily returns  Volatility\n",
       "Date                                                   \n",
       "1972-07-03          0.216712      -0.391371    0.665883\n",
       "1972-07-05          0.215435      -0.589419    0.671238\n",
       "1972-07-06          0.217990       1.185792    0.706339\n",
       "1972-07-07          0.217138      -0.390600    0.701270\n",
       "1972-07-10          0.214583      -1.176553    0.727105\n",
       "...                      ...            ...         ...\n",
       "2024-11-11         11.230000       2.370094    2.742602\n",
       "2024-11-12         11.100000      -1.157606    2.752199\n",
       "2024-11-14         11.070000      -0.270276    2.730101\n",
       "2024-11-15         11.010000      -0.542001    2.733393\n",
       "2024-11-18         11.210000       1.816529    2.760888\n",
       "\n",
       "[12519 rows x 3 columns]"
      ]
     },
     "execution_count": 19,
     "metadata": {},
     "output_type": "execute_result"
    }
   ],
   "source": [
    "# Daily returns calculations \n",
    "data = yf_data[[\"Date\", \"Adj Close\"]]\n",
    "data.set_index(\"Date\", inplace=True)\n",
    "data = data.rename(columns={\"Adj Close\": \"Ford stock price\"})\n",
    "data[\"Daily returns\"] = data[\"Ford stock price\"].pct_change()*100\n",
    "data = data.loc[data[\"Daily returns\"] != 0]\n",
    "\n",
    "# Volatility calculations \n",
    "rolling_window = 20\n",
    "data[\"Rolling Mean\"] = data[\"Daily returns\"].rolling(window=rolling_window).mean()\n",
    "data[\"Rolling Variance\"] = data[\"Daily returns\"].rolling(window=rolling_window).apply(\n",
    "    lambda x: ((x - x.mean()) ** 2).sum() / (len(x) - 1), raw=True\n",
    ")\n",
    "data[\"Volatility\"] = data[\"Rolling Variance\"] ** 0.5\n",
    "data.drop(columns=[\"Rolling Mean\", \"Rolling Variance\"], inplace=True)\n",
    "\n",
    "# Drop NA rows\n",
    "data.dropna(axis=0, how=\"any\", inplace=True)\n",
    "\n",
    "data"
   ]
  },
  {
   "cell_type": "code",
   "execution_count": 20,
   "metadata": {},
   "outputs": [
    {
     "data": {
      "text/plain": [
       "Text(0, 0.5, 'Ford stock price')"
      ]
     },
     "execution_count": 20,
     "metadata": {},
     "output_type": "execute_result"
    },
    {
     "data": {
      "text/plain": [
       "<Figure size 1200x600 with 0 Axes>"
      ]
     },
     "metadata": {},
     "output_type": "display_data"
    },
    {
     "data": {
      "image/png": "[encoded data removed]",
      "text/plain": [
       "<Figure size 640x480 with 1 Axes>"
      ]
     },
     "metadata": {},
     "output_type": "display_data"
    }
   ],
   "source": [
    "plt.figure(figsize=(12, 6))\n",
    "data.plot(y='Ford stock price', title='Ford stock price')\n",
    "plt.xlabel('Date')\n",
    "plt.ylabel('Ford stock price')"
   ]
  },
  {
   "cell_type": "code",
   "execution_count": 23,
   "metadata": {},
   "outputs": [
    {
     "name": "stdout",
     "output_type": "stream",
     "text": [
      "Mean daily return is 0.05823%\n",
      "Mean volatility over stock returns is 2.05044\n",
      "\n",
      "Annualized mean daily return is 14.67396%\n",
      "Annualized mean volatility over stock returns is 516.71088\n"
     ]
    }
   ],
   "source": [
    "print(f\"Mean daily return is {round(data['Daily returns'].mean(), 5)}%\")\n",
    "print(f\"Mean volatility over stock returns is {round(data['Volatility'].mean(), 5)}\")\n",
    "\n",
    "print(f\"\\nAnnualized mean daily return is {round(data['Daily returns'].mean(), 5)*252}%\")\n",
    "print(f\"Annualized mean volatility over stock returns is {round(data['Volatility'].mean(), 5)*252}\")"
   ]
  },
  {
   "cell_type": "code",
   "execution_count": null,
   "metadata": {},
   "outputs": [],
   "source": []
  }
 ],
 "metadata": {
  "kernelspec": {
   "display_name": "base",
   "language": "python",
   "name": "python3"
  },
  "language_info": {
   "codemirror_mode": {
    "name": "ipython",
    "version": 3
   },
   "file_extension": ".py",
   "mimetype": "text/x-python",
   "name": "python",
   "nbconvert_exporter": "python",
   "pygments_lexer": "ipython3",
   "version": "3.11.5"
  }
 },
 "nbformat": 4,
 "nbformat_minor": 2
}
